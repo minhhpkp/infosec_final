{
 "cells": [
  {
   "cell_type": "markdown",
   "metadata": {},
   "source": [
    "# Sinh đường cong Elliptic 480 bit\n",
    "Kết quả: đường cong $E$ có phương trình $y^2 = x^3 + 139968$ định nghĩa trên $Z_p$ với p = 3121748550315991538214173699589534134746816072564600451419102228601975673027889400388457879547892172226543045096818024326803929600010118578056399, có số điểm là số nguyên tố bằng 3121748550315991538214173699589534134746816072564600451419102228601975671261042335610073746124023902317385879851778395454090705207338203955310073."
   ]
  },
  {
   "cell_type": "code",
   "execution_count": 1,
   "metadata": {},
   "outputs": [
    {
     "name": "stdout",
     "output_type": "stream",
     "text": [
      "Field characteristic: q = 3121748550315991538214173699589534134746816072564600451419102228601975673027889400388457879547892172226543045096818024326803929600010118578056399\n",
      "Curve order: r = 3121748550315991538214173699589534134746816072564600451419102228601975671261042335610073746124023902317385879851778395454090705207338203955310073\n",
      "Elliptic Curve defined by y^2 = x^3 + 139968 over Finite Field of size 3121748550315991538214173699589534134746816072564600451419102228601975673027889400388457879547892172226543045096818024326803929600010118578056399\n"
     ]
    }
   ],
   "source": [
    "from bn_curves import make_curves\n",
    "from complex_multiplication import make_curve\n",
    "\n",
    "num_bits = 480 # number of bits in r\n",
    "num_curves = 1 # number of curves to find\n",
    "curves = make_curves(num_bits, num_curves)\n",
    "for q,t,r,k,D in curves:\n",
    "    E = make_curve(q,t,r,k,D)\n",
    "    print(f\"Field characteristic: q = {q}\")\n",
    "    print(f\"Curve order: r = {r}\")\n",
    "    print(E)"
   ]
  }
 ],
 "metadata": {
  "kernelspec": {
   "display_name": "SageMath 9.3",
   "language": "sage",
   "name": "sagemath"
  },
  "language_info": {
   "codemirror_mode": {
    "name": "ipython",
    "version": 3
   },
   "file_extension": ".py",
   "mimetype": "text/x-python",
   "name": "python",
   "nbconvert_exporter": "python",
   "pygments_lexer": "ipython3",
   "version": "3.7.10"
  }
 },
 "nbformat": 4,
 "nbformat_minor": 4
}
